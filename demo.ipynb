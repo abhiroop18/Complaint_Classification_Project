{
 "cells": [
  {
   "cell_type": "code",
   "execution_count": null,
   "metadata": {},
   "outputs": [],
   "source": [
    "\n",
    "from pyspark.sql import SparkSession\n",
    "\n",
    "# Create a Spark session\n",
    "spark = SparkSession.builder.appName(\"Read Parquet Files\").getOrCreate()\n",
    "\n",
    "# Specify the path to the folder containing the Parquet files\n",
    "folder_path = \"finance_artifact/data_ingestion/feature_store/finance_complaint\"\n",
    "\n",
    "# Read all Parquet files in the folder into a DataFrame\n",
    "df = spark.read.parquet(folder_path)\n",
    "\n",
    "top_10_rows = df.limit(10)\n",
    "\n",
    "# Convert the top 10 rows to a Pandas DataFrame\n",
    "top_10_pandas_df = top_10_rows.toPandas()\n",
    "\n",
    "# Display the top 10 rows as a Pandas DataFrame\n",
    "top_10_pandas_df\n",
    "\n",
    "\n",
    "# Show the DataFrame to verify the data\n",
    "\n",
    "# Stop the Spark session when you're done\n",
    "spark.stop()\n"
   ]
  }
 ],
 "metadata": {
  "language_info": {
   "name": "python"
  },
  "orig_nbformat": 4
 },
 "nbformat": 4,
 "nbformat_minor": 2
}
